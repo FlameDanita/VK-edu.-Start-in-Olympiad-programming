{
 "cells": [
  {
   "cell_type": "markdown",
   "metadata": {},
   "source": [
    "Пояснение к примеру. Остановки расположены на расстоянии 0, 600, 1200, 1800 и т.д. метров. Маша прошла 2000 метров, до ближайшей остановки, расположенной на расстоянии 1800 метров от начала проспекта, нужно идти 200 метров."
   ]
  },
  {
   "cell_type": "code",
   "execution_count": null,
   "metadata": {},
   "outputs": [],
   "source": [
    "# k, n = int(input()), int(input())\n",
    "k, n = 600, 2000\n",
    "\n",
    "print(min(n % k, k - (n % k)))"
   ]
  },
  {
   "cell_type": "markdown",
   "metadata": {},
   "source": [
    "Определите время прохода от стеллажа A до стеллажа B."
   ]
  },
  {
   "cell_type": "code",
   "execution_count": 14,
   "metadata": {},
   "outputs": [
    {
     "name": "stdout",
     "output_type": "stream",
     "text": [
      "0\n"
     ]
    }
   ],
   "source": [
    "a, b = int(input()), int(input())\n",
    "# a, b = 1, 8\n",
    "# a, b = 8, 1\n",
    "\n",
    "print((max(a, b) - min(a, b)) // 2)"
   ]
  },
  {
   "cell_type": "code",
   "execution_count": null,
   "metadata": {},
   "outputs": [],
   "source": []
  },
  {
   "cell_type": "code",
   "execution_count": null,
   "metadata": {},
   "outputs": [],
   "source": []
  }
 ],
 "metadata": {
  "kernelspec": {
   "display_name": "base",
   "language": "python",
   "name": "python3"
  },
  "language_info": {
   "codemirror_mode": {
    "name": "ipython",
    "version": 3
   },
   "file_extension": ".py",
   "mimetype": "text/x-python",
   "name": "python",
   "nbconvert_exporter": "python",
   "pygments_lexer": "ipython3",
   "version": "3.11.7"
  }
 },
 "nbformat": 4,
 "nbformat_minor": 2
}
