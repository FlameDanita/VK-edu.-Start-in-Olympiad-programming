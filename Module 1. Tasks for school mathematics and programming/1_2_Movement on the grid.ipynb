{
 "cells": [
  {
   "cell_type": "markdown",
   "metadata": {},
   "source": [
    "Робот-курьер находится на пересечении проспекта номер x1 и улицы номер y1. \n",
    "Ему нужно попасть на перекресток проспекта номер x2 и улицы номер y2.\n",
    "Определите маршрут, который он должен пройти."
   ]
  },
  {
   "cell_type": "code",
   "execution_count": 12,
   "metadata": {},
   "outputs": [],
   "source": [
    "# x1 = int(input())\n",
    "# y1 = int(input())\n",
    "# x2 = int(input())\n",
    "# y2 = int(input())\n",
    "\n",
    "x1, y1, x2, y2 = 1, 3, 4, 1\n",
    "res = ''"
   ]
  },
  {
   "cell_type": "code",
   "execution_count": 5,
   "metadata": {},
   "outputs": [
    {
     "name": "stdout",
     "output_type": "stream",
     "text": [
      "EEESS\n"
     ]
    }
   ],
   "source": [
    "if x1 < x2:\n",
    "    while x1 != x2:\n",
    "        x1 += 1\n",
    "        res += 'E'\n",
    "elif x1 > x2:\n",
    "    while x1 != x2:\n",
    "        x2 += 1\n",
    "        res += 'W'\n",
    "\n",
    "if y1 < y2:\n",
    "    while y1 != y2:\n",
    "        y1 += 1\n",
    "        res += 'N' \n",
    "elif y1 > y2:\n",
    "    while y1 != y2:\n",
    "        y2 += 1\n",
    "        res += 'S'\n",
    "\n",
    "\n",
    "print(res)"
   ]
  },
  {
   "cell_type": "code",
   "execution_count": 14,
   "metadata": {},
   "outputs": [
    {
     "name": "stdout",
     "output_type": "stream",
     "text": [
      "EEESS\n"
     ]
    }
   ],
   "source": [
    "x1, y1, x2, y2 = 1, 3, 4, 1\n",
    "print('E'*(x2 - x1) + 'W'*(x1 - x2) + 'N'*(y2 - y1) + 'S'*(y1 - y2))"
   ]
  },
  {
   "cell_type": "code",
   "execution_count": null,
   "metadata": {},
   "outputs": [],
   "source": []
  }
 ],
 "metadata": {
  "kernelspec": {
   "display_name": "base",
   "language": "python",
   "name": "python3"
  },
  "language_info": {
   "codemirror_mode": {
    "name": "ipython",
    "version": 3
   },
   "file_extension": ".py",
   "mimetype": "text/x-python",
   "name": "python",
   "nbconvert_exporter": "python",
   "pygments_lexer": "ipython3",
   "version": "3.11.7"
  }
 },
 "nbformat": 4,
 "nbformat_minor": 2
}
