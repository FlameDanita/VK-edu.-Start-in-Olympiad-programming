{
 "cells": [
  {
   "cell_type": "code",
   "execution_count": 56,
   "metadata": {},
   "outputs": [],
   "source": [
    "way = input()"
   ]
  },
  {
   "cell_type": "code",
   "execution_count": null,
   "metadata": {},
   "outputs": [
    {
     "name": "stdout",
     "output_type": "stream",
     "text": [
      "1S\n"
     ]
    }
   ],
   "source": [
    "way = input()\n",
    "\n",
    "way_N, way_S, way_W, way_E = 0, 0, 0, 0\n",
    "way_tmp = ''\n",
    "\n",
    "for elem in way:\n",
    "    if elem.isdigit():\n",
    "        way_tmp += elem\n",
    "    else:\n",
    "        # way_tmp.append(elem)\n",
    "        if elem == 'N':\n",
    "            way_N += int(way_tmp)\n",
    "        elif elem == 'S':\n",
    "            way_S += int(way_tmp)\n",
    "        if elem == 'W':\n",
    "            way_W += int(way_tmp)\n",
    "        if elem == 'E':\n",
    "            way_E += int(way_tmp)\n",
    "\n",
    "        way_tmp = ''\n",
    "\n",
    "# print(way_N)\n",
    "# print(way_S)\n",
    "# print(way_W)\n",
    "# print(way_E)\n",
    "\n",
    "way_N -= way_S\n",
    "way_W -= way_E\n",
    "answer = ''\n",
    "\n",
    "if way_N > 0:\n",
    "    answer += str(way_N) + 'N'\n",
    "elif way_N < 0:\n",
    "    answer += str(-way_N) + 'S'\n",
    "else:\n",
    "    pass\n",
    "\n",
    "if way_W > 0:\n",
    "    answer += str(way_W) + 'W'\n",
    "elif way_W < 0:\n",
    "    answer += str(-way_W) + 'E'\n",
    "else:\n",
    "    pass\n",
    "\n",
    "print(answer)"
   ]
  },
  {
   "cell_type": "code",
   "execution_count": null,
   "metadata": {},
   "outputs": [],
   "source": []
  },
  {
   "cell_type": "code",
   "execution_count": null,
   "metadata": {},
   "outputs": [
    {
     "name": "stdout",
     "output_type": "stream",
     "text": [
      "1020\n",
      "\n",
      "1020N3W\n"
     ]
    }
   ],
   "source": [
    "answer = ''\n",
    "summ_way_N = ''\n",
    "summ_way_S = ''\n",
    "summ_way_W = ''\n",
    "\n",
    "for way in way_N:\n",
    "    for elem in way[:-1]:\n",
    "        summ_way_N += elem\n",
    "    summ_way_N = int(summ_way_N)\n",
    "for way in way_S:\n",
    "    for elem in way[:-1]:\n",
    "        summ_way_S += elem\n",
    "\n",
    "print(summ_way_N, summ_way_S, sep='\\n')\n",
    "\n",
    "if summ_way_N:\n",
    "    summ_way_N = int(summ_way_N)\n",
    "else:\n",
    "    summ_way_N = 0\n",
    "if summ_way_S:\n",
    "    summ_way_S = int(summ_way_S)\n",
    "else:\n",
    "    summ_way_S = 0\n",
    "\n",
    "summ_way_N = summ_way_N - summ_way_S\n",
    "\n",
    "\n",
    "if summ_way_N > 0:\n",
    "    answer += str(summ_way_N) + 'N'\n",
    "else:\n",
    "    answer += str(-summ_way_N) + 'S'\n",
    "\n",
    "for way in way_W:\n",
    "    summ_way_W += way[0]\n",
    "for way in way_E:\n",
    "    summ_way_W -= way[0]\n",
    "summ_way_W = int(summ_way_W)\n",
    "\n",
    "if summ_way_W > 0:\n",
    "    answer += str(summ_way_W) + 'W'\n",
    "else:\n",
    "    answer += str(-summ_way_W) + 'E'\n",
    "\n",
    "print(answer)"
   ]
  },
  {
   "cell_type": "code",
   "execution_count": null,
   "metadata": {},
   "outputs": [],
   "source": []
  }
 ],
 "metadata": {
  "kernelspec": {
   "display_name": "base",
   "language": "python",
   "name": "python3"
  },
  "language_info": {
   "codemirror_mode": {
    "name": "ipython",
    "version": 3
   },
   "file_extension": ".py",
   "mimetype": "text/x-python",
   "name": "python",
   "nbconvert_exporter": "python",
   "pygments_lexer": "ipython3",
   "version": "3.11.7"
  }
 },
 "nbformat": 4,
 "nbformat_minor": 2
}
