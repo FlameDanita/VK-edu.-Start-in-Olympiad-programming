{
 "cells": [
  {
   "cell_type": "markdown",
   "metadata": {},
   "source": [
    "Васе нужно купить N одинаковых буханок хлеба. В каждом лутбоксе ровно 3 буханки, причем обязательно есть хотя бы одна буханка белого и одна — черного. Какое минимальное количество лутбоксов надо купить Васе?\n"
   ]
  },
  {
   "cell_type": "code",
   "execution_count": null,
   "metadata": {},
   "outputs": [
    {
     "name": "stdout",
     "output_type": "stream",
     "text": [
      "4\n"
     ]
    }
   ],
   "source": [
    "import math\n",
    "\n",
    "print(math.ceil(int(input()) / 3) * 2)"
   ]
  },
  {
   "cell_type": "code",
   "execution_count": 27,
   "metadata": {},
   "outputs": [
    {
     "name": "stdout",
     "output_type": "stream",
     "text": [
      "4\n"
     ]
    }
   ],
   "source": [
    "n = int(input())\n",
    "if n % 3 == 0:\n",
    "    print(n // 3 * 2)\n",
    "else:\n",
    "    print(n // 3 * 2 + 1)"
   ]
  },
  {
   "cell_type": "code",
   "execution_count": 36,
   "metadata": {},
   "outputs": [],
   "source": [
    "def fast(n):\n",
    "    return math.ceil(n / 1.5)\n",
    "\n",
    "def slow(n):\n",
    "    if n % 3 == 0:\n",
    "        return n // 3 * 2\n",
    "    else:\n",
    "        return n // 3 * 2 + 1\n"
   ]
  },
  {
   "cell_type": "code",
   "execution_count": 35,
   "metadata": {},
   "outputs": [
    {
     "name": "stdout",
     "output_type": "stream",
     "text": [
      "0 0 1\n",
      "2 2 1\n",
      "3 2 3\n",
      "5 4 3\n",
      "6 4 5\n",
      "8 6 5\n",
      "9 6 7\n",
      "11 8 7\n",
      "12 8 9\n",
      "14 10 9\n",
      "15 10 11\n",
      "17 12 11\n",
      "18 12 13\n",
      "20 14 13\n",
      "21 14 15\n",
      "23 16 15\n",
      "24 16 17\n",
      "26 18 17\n",
      "27 18 19\n",
      "29 20 19\n",
      "30 20 21\n",
      "32 22 21\n",
      "33 22 23\n",
      "35 24 23\n",
      "36 24 25\n",
      "38 26 25\n",
      "39 26 27\n",
      "41 28 27\n",
      "42 28 29\n",
      "44 30 29\n",
      "45 30 31\n",
      "47 32 31\n",
      "48 32 33\n",
      "50 34 33\n",
      "51 34 35\n",
      "53 36 35\n",
      "54 36 37\n",
      "56 38 37\n",
      "57 38 39\n",
      "59 40 39\n",
      "60 40 41\n",
      "62 42 41\n",
      "63 42 43\n",
      "65 44 43\n",
      "66 44 45\n",
      "68 46 45\n",
      "69 46 47\n",
      "71 48 47\n",
      "72 48 49\n",
      "74 50 49\n",
      "75 50 51\n",
      "77 52 51\n",
      "78 52 53\n",
      "80 54 53\n",
      "81 54 55\n",
      "83 56 55\n",
      "84 56 57\n",
      "86 58 57\n",
      "87 58 59\n",
      "89 60 59\n",
      "90 60 61\n",
      "92 62 61\n",
      "93 62 63\n",
      "95 64 63\n",
      "96 64 65\n",
      "98 66 65\n",
      "99 66 67\n"
     ]
    }
   ],
   "source": [
    "for i in range(100):\n",
    "    if fast(i) != slow(i):\n",
    "        print(i, fast(i), slow(i))"
   ]
  },
  {
   "cell_type": "markdown",
   "metadata": {},
   "source": [
    "Альпинист пристегивается тремя карабинами, которые выдерживают массу a, b и c килограмм соответственно. Страховка альпиниста называется надежной, если хотя бы два карабина выдерживают массу альпиниста со снаряжением. Определите, для какой максимальной массы карабины могут обеспечить надёжную страховку"
   ]
  },
  {
   "cell_type": "code",
   "execution_count": 17,
   "metadata": {},
   "outputs": [
    {
     "name": "stdout",
     "output_type": "stream",
     "text": [
      "2\n"
     ]
    }
   ],
   "source": [
    "n1 = int(input())\n",
    "n2 = int(input())\n",
    "n3 = int(input())\n",
    "\n",
    "print(sum([n1, n2, n3]) - max(max(n1, n2), max(n2, n3)) - min(min(n1, n2), min(n2, n3)))"
   ]
  },
  {
   "cell_type": "markdown",
   "metadata": {},
   "source": [
    "Маша разложила все свои вещи в порядке уменьшения их ценности и начинает складывать наиболее ценные вещи в бардачок. Она действует следующим образом — берёт самый ценный предмет, и, если его объем не превосходит объема бардачка, кладёт его в бардачок, иначе кладёт его в багажник. Затем она берёт следующий по ценности предмет, если его можно положить в бардачок, то есть если его объем вместе с объемом уже положенных в бардачок вещей не превосходит S, то кладёт его в бардачок, иначе в багажник, и таким же образом процесс продолжается для всех предметов в порядке убывания их ценности."
   ]
  },
  {
   "cell_type": "code",
   "execution_count": null,
   "metadata": {},
   "outputs": [
    {
     "name": "stdout",
     "output_type": "stream",
     "text": [
      "[6, 10, 5, 2, 3]\n",
      "18 8\n"
     ]
    }
   ],
   "source": [
    "S = int(input())\n",
    "N = int(input())\n",
    "arr_N = []\n",
    "\n",
    "arr_main = 0\n",
    "arr_back = 0\n",
    "\n",
    "for i in range(N):\n",
    "    arr_N.append(int(input()))\n",
    "\n",
    "# print(arr_N)\n",
    "\n",
    "for elem in arr_N:\n",
    "    if arr_main + elem <= S:\n",
    "        arr_main += elem\n",
    "    else:\n",
    "        arr_back += elem\n",
    "\n",
    "print(arr_main, arr_back)"
   ]
  },
  {
   "cell_type": "code",
   "execution_count": null,
   "metadata": {},
   "outputs": [],
   "source": []
  }
 ],
 "metadata": {
  "kernelspec": {
   "display_name": "base",
   "language": "python",
   "name": "python3"
  },
  "language_info": {
   "codemirror_mode": {
    "name": "ipython",
    "version": 3
   },
   "file_extension": ".py",
   "mimetype": "text/x-python",
   "name": "python",
   "nbconvert_exporter": "python",
   "pygments_lexer": "ipython3",
   "version": "3.11.7"
  }
 },
 "nbformat": 4,
 "nbformat_minor": 2
}
