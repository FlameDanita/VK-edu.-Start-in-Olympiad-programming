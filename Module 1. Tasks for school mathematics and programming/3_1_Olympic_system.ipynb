{
 "cells": [
  {
   "cell_type": "code",
   "execution_count": 1,
   "metadata": {},
   "outputs": [
    {
     "name": "stdout",
     "output_type": "stream",
     "text": [
      "7\n"
     ]
    }
   ],
   "source": [
    "n = int(input())\n",
    "# n = 0, 2, 4, 8, 16, 32...\n",
    "# n = 8\n",
    "# games = []\n",
    "gamer_arr = []\n",
    "for i in range(n):\n",
    "    gamer_arr.append(i+1)\n",
    "\n",
    "while n != 0.5:\n",
    "    games = []\n",
    "    n /= 2\n",
    "    for i in range(int(n)):\n",
    "        game = int(input())\n",
    "        games.append(game)\n",
    "\n",
    "    looser_arr = []\n",
    "    for play in range(len(games)):\n",
    "        looser_arr.append(gamer_arr[play*2 + (2 - games[play])])\n",
    "    for looser in looser_arr:\n",
    "        gamer_arr.remove(looser)\n",
    "        \n",
    "print(*gamer_arr)"
   ]
  },
  {
   "cell_type": "code",
   "execution_count": null,
   "metadata": {},
   "outputs": [],
   "source": []
  }
 ],
 "metadata": {
  "kernelspec": {
   "display_name": "base",
   "language": "python",
   "name": "python3"
  },
  "language_info": {
   "codemirror_mode": {
    "name": "ipython",
    "version": 3
   },
   "file_extension": ".py",
   "mimetype": "text/x-python",
   "name": "python",
   "nbconvert_exporter": "python",
   "pygments_lexer": "ipython3",
   "version": "3.11.7"
  }
 },
 "nbformat": 4,
 "nbformat_minor": 2
}
