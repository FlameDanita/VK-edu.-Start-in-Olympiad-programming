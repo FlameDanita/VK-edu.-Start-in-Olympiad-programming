{
 "cells": [
  {
   "cell_type": "markdown",
   "metadata": {},
   "source": [
    "Буква, три цифры, две буквы, например Y413KM — частные автомобили\n",
    "\n",
    "Две буквы, три цифры, например AB024 — маршрутные автобусы и такси\n",
    "\n",
    "Две буквы, четыре цифры, например CT0000 — прицепы\n",
    "\n",
    "Четыре цифры, две буквы, например 9194CE — мотоциклы, квадроциклы и квадрициклы"
   ]
  },
  {
   "cell_type": "code",
   "execution_count": 15,
   "metadata": {},
   "outputs": [],
   "source": [
    "plate1 = input()\n",
    "plate2 = input()\n",
    "plate3 = input()"
   ]
  },
  {
   "cell_type": "code",
   "execution_count": 26,
   "metadata": {},
   "outputs": [],
   "source": [
    "def check_plate(plate):\n",
    "    if is_basic_plate(plate):\n",
    "        return 1\n",
    "    elif is_taxi_plate(plate):\n",
    "        return 2\n",
    "    elif is_trailer_plate(plate):\n",
    "        return 3\n",
    "    elif is_moto_plate(plate):\n",
    "        return 4\n",
    "    else:\n",
    "        return 0\n",
    "\n",
    "def is_basic_plate(plate):\n",
    "    flag = True\n",
    "    if len(plate) != 6:\n",
    "        flag = False\n",
    "    if flag and not plate[0].isalpha():\n",
    "        flag = False\n",
    "    if flag and not plate[1].isdigit():\n",
    "        flag = False\n",
    "    if flag and not plate[2].isdigit():\n",
    "        flag = False\n",
    "    if flag and not plate[3].isdigit():\n",
    "        flag = False\n",
    "    if flag and not plate[4].isalpha():\n",
    "        flag = False\n",
    "    if flag and not plate[5].isalpha():\n",
    "        flag = False\n",
    "    return flag\n",
    "\n",
    "def is_taxi_plate(plate):\n",
    "    flag = True\n",
    "    if len(plate) != 5:\n",
    "        flag = False\n",
    "    if flag and not plate[0].isalpha():\n",
    "        flag = False\n",
    "    if flag and not plate[1].isalpha():\n",
    "        flag = False\n",
    "    if flag and not plate[2].isdigit():\n",
    "        flag = False\n",
    "    if flag and not plate[3].isdigit():\n",
    "        flag = False\n",
    "    if flag and not plate[4].isdigit():\n",
    "        flag = False\n",
    "    return flag\n",
    "\n",
    "def is_trailer_plate(plate):\n",
    "    flag = True\n",
    "    if len(plate) != 6:\n",
    "        flag = False\n",
    "    if flag and not plate[0].isalpha():\n",
    "        flag = False\n",
    "    if flag and not plate[1].isalpha():\n",
    "        flag = False\n",
    "    if flag and not plate[2].isdigit():\n",
    "        flag = False\n",
    "    if flag and not plate[3].isdigit():\n",
    "        flag = False\n",
    "    if flag and not plate[4].isdigit():\n",
    "        flag = False\n",
    "    if flag and not plate[5].isdigit():\n",
    "        flag = False\n",
    "    return flag\n",
    "\n",
    "def is_moto_plate(plate):\n",
    "    flag = True\n",
    "    if len(plate) != 6:\n",
    "        flag = False\n",
    "    if flag and not plate[0].isdigit():\n",
    "        flag = False\n",
    "    if flag and not plate[1].isdigit():\n",
    "        flag = False\n",
    "    if flag and not plate[2].isdigit():\n",
    "        flag = False\n",
    "    if flag and not plate[3].isdigit():\n",
    "        flag = False\n",
    "    if flag and not plate[4].isalpha():\n",
    "        flag = False\n",
    "    if flag and not plate[5].isalpha():\n",
    "        flag = False\n",
    "    return flag"
   ]
  },
  {
   "cell_type": "code",
   "execution_count": 27,
   "metadata": {},
   "outputs": [
    {
     "name": "stdout",
     "output_type": "stream",
     "text": [
      "1\n",
      "0\n",
      "3\n"
     ]
    }
   ],
   "source": [
    "print(check_plate(plate1))\n",
    "print(check_plate(plate2))\n",
    "print(check_plate(plate3))"
   ]
  },
  {
   "cell_type": "code",
   "execution_count": null,
   "metadata": {},
   "outputs": [],
   "source": []
  }
 ],
 "metadata": {
  "kernelspec": {
   "display_name": "base",
   "language": "python",
   "name": "python3"
  },
  "language_info": {
   "codemirror_mode": {
    "name": "ipython",
    "version": 3
   },
   "file_extension": ".py",
   "mimetype": "text/x-python",
   "name": "python",
   "nbconvert_exporter": "python",
   "pygments_lexer": "ipython3",
   "version": "3.11.7"
  }
 },
 "nbformat": 4,
 "nbformat_minor": 2
}
