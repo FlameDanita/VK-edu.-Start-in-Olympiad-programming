{
 "cells": [
  {
   "cell_type": "markdown",
   "metadata": {},
   "source": [
    "Руководителю отдела нужно распределить между ними премиальный фонд, который составляет N рублей. Руководитель хочет распределить премии таким образом, чтобы итоговая зарплата (сумма оклада и премии) сотрудников оказалась пропорциональна проведённому на работе времени. Зарплата Александра должна оказаться ровно вдвое больше, чем зарплата Василия и Семёна."
   ]
  },
  {
   "cell_type": "code",
   "execution_count": null,
   "metadata": {},
   "outputs": [],
   "source": [
    "# s1 = int(input())\n",
    "# s2 = int(input())\n",
    "# s3 = int(input())\n",
    "# p = int(input())"
   ]
  },
  {
   "cell_type": "code",
   "execution_count": 4,
   "metadata": {},
   "outputs": [],
   "source": [
    "def check(s1, s2, s3, p):\n",
    "    if s1 == s2 + s3 and p >= 0:\n",
    "        return True\n",
    "    else:\n",
    "        return False"
   ]
  },
  {
   "cell_type": "code",
   "execution_count": 13,
   "metadata": {},
   "outputs": [
    {
     "name": "stdout",
     "output_type": "stream",
     "text": [
      "14 6 6 0\n",
      "False\n"
     ]
    }
   ],
   "source": [
    "s1, s2, s3, p = 7, 3, 4, 12\n",
    "\n",
    "if s1 % 2 != 0:\n",
    "    s1 += 1\n",
    "    p -= 1\n",
    "\n",
    "while p > 0:\n",
    "    if s1 / 2 > s2:\n",
    "        while s1 / 2 != s2:\n",
    "            s2 += 1\n",
    "            p -= 1\n",
    "    else:\n",
    "        s1 += 2\n",
    "        p -= 2\n",
    "\n",
    "    if s1 / 2 > s3:\n",
    "        while s1 / 2 != s3:\n",
    "            s3 += 1\n",
    "            p -= 1\n",
    "    else:\n",
    "        s1 += 2\n",
    "        p -= 2\n",
    "\n",
    "\n",
    "print(s1, s2, s3, p)\n",
    "print(check(s1, s2, s3, p))"
   ]
  },
  {
   "cell_type": "code",
   "execution_count": null,
   "metadata": {},
   "outputs": [
    {
     "name": "stdout",
     "output_type": "stream",
     "text": [
      "0\n"
     ]
    }
   ],
   "source": [
    "# s1 = int(input())\n",
    "# s2 = int(input())\n",
    "# s3 = int(input())\n",
    "# p = int(input())\n",
    "\n",
    "summ = (s1 + s2 + s3 + p) // 4\n",
    "\n",
    "if s1 <= 2*summ and s2 <= summ and s3 <= summ:\n",
    "    print(2*summ - s1)\n",
    "    print(summ - s2)\n",
    "    print(summ - s3)\n",
    "else:\n",
    "    print(0)"
   ]
  },
  {
   "cell_type": "code",
   "execution_count": null,
   "metadata": {},
   "outputs": [],
   "source": []
  }
 ],
 "metadata": {
  "kernelspec": {
   "display_name": "base",
   "language": "python",
   "name": "python3"
  },
  "language_info": {
   "codemirror_mode": {
    "name": "ipython",
    "version": 3
   },
   "file_extension": ".py",
   "mimetype": "text/x-python",
   "name": "python",
   "nbconvert_exporter": "python",
   "pygments_lexer": "ipython3",
   "version": "3.11.7"
  }
 },
 "nbformat": 4,
 "nbformat_minor": 2
}
